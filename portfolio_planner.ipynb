{
 "cells": [
  {
   "cell_type": "code",
   "execution_count": 47,
   "metadata": {},
   "outputs": [],
   "source": [
    "import numpy as np\n",
    "import pandas as pd\n",
    "import os\n",
    "from datetime import datetime, timedelta\n",
    "import matplotlib.pyplot as plt\n",
    "%matplotlib inline"
   ]
  },
  {
   "cell_type": "code",
   "execution_count": 48,
   "metadata": {},
   "outputs": [],
   "source": [
    "np.random.seed(42)"
   ]
  },
  {
   "cell_type": "markdown",
   "metadata": {},
   "source": [
    "# Portfolio Planner\n",
    "\n",
    "In this activity, you will use the iexfinance api to grab historical data for a 60/40 portfolio using `SPY` to represent the stock portion and `AGG` to represent the bonds."
   ]
  },
  {
   "cell_type": "code",
   "execution_count": 49,
   "metadata": {},
   "outputs": [],
   "source": [
    "#import alpaca \n",
    "import alpaca_trade_api as tradeapi"
   ]
  },
  {
   "cell_type": "code",
   "execution_count": 50,
   "metadata": {},
   "outputs": [],
   "source": [
    "# Load .env enviroment variables\n",
    "from dotenv import load_dotenv\n",
    "load_dotenv()\n",
    "\n",
    "# Set Alpaca API key and secret\n",
    "alpaca_api_key = os.getenv(\"ALPACA_API_KEY\")\n",
    "alpaca_secret_key = os.getenv(\"ALPACA_SECRET_KEY\")\n",
    "\n",
    "api = tradeapi.REST(alpaca_api_key, alpaca_secret_key, api_version='v2')"
   ]
  },
  {
   "cell_type": "markdown",
   "metadata": {},
   "source": [
    "# Data Collection\n",
    "\n",
    "In this step, you will need to use the IEX api to fetch closing prices for the `SPY` and `AGG` tickers. Save the results as a pandas DataFrame"
   ]
  },
  {
   "cell_type": "code",
   "execution_count": 51,
   "metadata": {},
   "outputs": [
    {
     "data": {
      "text/html": [
       "<div>\n",
       "<style scoped>\n",
       "    .dataframe tbody tr th:only-of-type {\n",
       "        vertical-align: middle;\n",
       "    }\n",
       "\n",
       "    .dataframe tbody tr th {\n",
       "        vertical-align: top;\n",
       "    }\n",
       "\n",
       "    .dataframe thead tr th {\n",
       "        text-align: left;\n",
       "    }\n",
       "\n",
       "    .dataframe thead tr:last-of-type th {\n",
       "        text-align: right;\n",
       "    }\n",
       "</style>\n",
       "<table border=\"1\" class=\"dataframe\">\n",
       "  <thead>\n",
       "    <tr>\n",
       "      <th></th>\n",
       "      <th>AGG</th>\n",
       "      <th>SPY</th>\n",
       "    </tr>\n",
       "    <tr>\n",
       "      <th></th>\n",
       "      <th>close</th>\n",
       "      <th>close</th>\n",
       "    </tr>\n",
       "    <tr>\n",
       "      <th>time</th>\n",
       "      <th></th>\n",
       "      <th></th>\n",
       "    </tr>\n",
       "  </thead>\n",
       "  <tbody>\n",
       "    <tr>\n",
       "      <td>2019-11-15 00:00:00-05:00</td>\n",
       "      <td>112.4100</td>\n",
       "      <td>311.82</td>\n",
       "    </tr>\n",
       "    <tr>\n",
       "      <td>2019-11-18 00:00:00-05:00</td>\n",
       "      <td>112.5950</td>\n",
       "      <td>312.00</td>\n",
       "    </tr>\n",
       "    <tr>\n",
       "      <td>2019-11-19 00:00:00-05:00</td>\n",
       "      <td>112.7100</td>\n",
       "      <td>311.91</td>\n",
       "    </tr>\n",
       "    <tr>\n",
       "      <td>2019-11-20 00:00:00-05:00</td>\n",
       "      <td>112.9700</td>\n",
       "      <td>310.79</td>\n",
       "    </tr>\n",
       "    <tr>\n",
       "      <td>2019-11-21 00:00:00-05:00</td>\n",
       "      <td>112.8131</td>\n",
       "      <td>310.29</td>\n",
       "    </tr>\n",
       "    <tr>\n",
       "      <td>...</td>\n",
       "      <td>...</td>\n",
       "      <td>...</td>\n",
       "    </tr>\n",
       "    <tr>\n",
       "      <td>2020-04-03 00:00:00-04:00</td>\n",
       "      <td>115.0000</td>\n",
       "      <td>248.21</td>\n",
       "    </tr>\n",
       "    <tr>\n",
       "      <td>2020-04-06 00:00:00-04:00</td>\n",
       "      <td>115.5800</td>\n",
       "      <td>264.97</td>\n",
       "    </tr>\n",
       "    <tr>\n",
       "      <td>2020-04-07 00:00:00-04:00</td>\n",
       "      <td>115.6900</td>\n",
       "      <td>265.10</td>\n",
       "    </tr>\n",
       "    <tr>\n",
       "      <td>2020-04-08 00:00:00-04:00</td>\n",
       "      <td>115.8100</td>\n",
       "      <td>274.07</td>\n",
       "    </tr>\n",
       "    <tr>\n",
       "      <td>2020-04-09 00:00:00-04:00</td>\n",
       "      <td>117.1100</td>\n",
       "      <td>278.24</td>\n",
       "    </tr>\n",
       "  </tbody>\n",
       "</table>\n",
       "<p>100 rows × 2 columns</p>\n",
       "</div>"
      ],
      "text/plain": [
       "                                AGG     SPY\n",
       "                              close   close\n",
       "time                                       \n",
       "2019-11-15 00:00:00-05:00  112.4100  311.82\n",
       "2019-11-18 00:00:00-05:00  112.5950  312.00\n",
       "2019-11-19 00:00:00-05:00  112.7100  311.91\n",
       "2019-11-20 00:00:00-05:00  112.9700  310.79\n",
       "2019-11-21 00:00:00-05:00  112.8131  310.29\n",
       "...                             ...     ...\n",
       "2020-04-03 00:00:00-04:00  115.0000  248.21\n",
       "2020-04-06 00:00:00-04:00  115.5800  264.97\n",
       "2020-04-07 00:00:00-04:00  115.6900  265.10\n",
       "2020-04-08 00:00:00-04:00  115.8100  274.07\n",
       "2020-04-09 00:00:00-04:00  117.1100  278.24\n",
       "\n",
       "[100 rows x 2 columns]"
      ]
     },
     "execution_count": 51,
     "metadata": {},
     "output_type": "execute_result"
    }
   ],
   "source": [
    "# Set the list of tickers\n",
    "tickers = [\"SPY\", \"AGG\"]\n",
    "\n",
    "# Set timeframe to 1 DAY for close at end of each day\n",
    "timeframe = '1D'\n",
    "\n",
    "# Set start and end datetimes of 1 year, between now and 365 days ago.\n",
    "end_date = datetime.now()\n",
    "start_date = end_date + timedelta(-365)\n",
    "\n",
    "# Get 1 year's worth of historical data for SPY,AGG\n",
    "ticker_df = api.get_barset(\n",
    "    tickers,\n",
    "    timeframe,\n",
    "    limit=None,\n",
    "    start=start_date,\n",
    "    end=end_date,\n",
    "    after=None,\n",
    "    until=None,\n",
    ").df\n",
    "\n",
    "# Use the `drop` function to get only close price of SPY AGG\n",
    "ticker_df.drop(columns=['open', 'high', 'low', 'volume'], level=1, inplace=True)\n",
    "ticker_df"
   ]
  },
  {
   "cell_type": "markdown",
   "metadata": {},
   "source": [
    "# Monte Carlo Simulation\n",
    "\n",
    "In this step, you will run Monte Carlo Simulations for your portfolio to model portfolio performance at different retirement ages. \n",
    "\n",
    "Complete the following steps:\n",
    "1. Calculate the daily returns for the SPY and AGG closing prices.\n",
    "2. Calculate volatility for both the SPY and AGG closing prices.\n",
    "3. Find the last day's closing price for both stocks and save those as variables.\n",
    "4. Run a Monte Carlo Simulation of at least 500 iterations and generate at least 30 years of closing prices\n",
    "\n",
    "### HINTS:\n",
    "There are 252 trading days per year, so the number of records to generate for each Monte Carlo run will be 252 days * 30 years"
   ]
  },
  {
   "cell_type": "code",
   "execution_count": 52,
   "metadata": {},
   "outputs": [
    {
     "data": {
      "text/html": [
       "<div>\n",
       "<style scoped>\n",
       "    .dataframe tbody tr th:only-of-type {\n",
       "        vertical-align: middle;\n",
       "    }\n",
       "\n",
       "    .dataframe tbody tr th {\n",
       "        vertical-align: top;\n",
       "    }\n",
       "\n",
       "    .dataframe thead tr th {\n",
       "        text-align: left;\n",
       "    }\n",
       "\n",
       "    .dataframe thead tr:last-of-type th {\n",
       "        text-align: right;\n",
       "    }\n",
       "</style>\n",
       "<table border=\"1\" class=\"dataframe\">\n",
       "  <thead>\n",
       "    <tr>\n",
       "      <th></th>\n",
       "      <th>AGG</th>\n",
       "      <th>SPY</th>\n",
       "    </tr>\n",
       "    <tr>\n",
       "      <th></th>\n",
       "      <th>close</th>\n",
       "      <th>close</th>\n",
       "    </tr>\n",
       "    <tr>\n",
       "      <th>time</th>\n",
       "      <th></th>\n",
       "      <th></th>\n",
       "    </tr>\n",
       "  </thead>\n",
       "  <tbody>\n",
       "    <tr>\n",
       "      <td>2019-11-15 00:00:00-05:00</td>\n",
       "      <td>NaN</td>\n",
       "      <td>NaN</td>\n",
       "    </tr>\n",
       "    <tr>\n",
       "      <td>2019-11-18 00:00:00-05:00</td>\n",
       "      <td>0.001646</td>\n",
       "      <td>0.000577</td>\n",
       "    </tr>\n",
       "    <tr>\n",
       "      <td>2019-11-19 00:00:00-05:00</td>\n",
       "      <td>0.001021</td>\n",
       "      <td>-0.000288</td>\n",
       "    </tr>\n",
       "    <tr>\n",
       "      <td>2019-11-20 00:00:00-05:00</td>\n",
       "      <td>0.002307</td>\n",
       "      <td>-0.003591</td>\n",
       "    </tr>\n",
       "    <tr>\n",
       "      <td>2019-11-21 00:00:00-05:00</td>\n",
       "      <td>-0.001389</td>\n",
       "      <td>-0.001609</td>\n",
       "    </tr>\n",
       "  </tbody>\n",
       "</table>\n",
       "</div>"
      ],
      "text/plain": [
       "                                AGG       SPY\n",
       "                              close     close\n",
       "time                                         \n",
       "2019-11-15 00:00:00-05:00       NaN       NaN\n",
       "2019-11-18 00:00:00-05:00  0.001646  0.000577\n",
       "2019-11-19 00:00:00-05:00  0.001021 -0.000288\n",
       "2019-11-20 00:00:00-05:00  0.002307 -0.003591\n",
       "2019-11-21 00:00:00-05:00 -0.001389 -0.001609"
      ]
     },
     "execution_count": 52,
     "metadata": {},
     "output_type": "execute_result"
    }
   ],
   "source": [
    "# Calculate the daily roi for the stocks\n",
    "# Use the `pct_change` function to calculate daily returns of `SPY` and `AGG`.\n",
    "daily_returns = ticker_df.pct_change()\n",
    "daily_returns.head()"
   ]
  },
  {
   "cell_type": "code",
   "execution_count": 53,
   "metadata": {},
   "outputs": [],
   "source": [
    "#Calculate average daily return for each stock \n",
    "#These will be used in Monte Carlo Simulation\n",
    "avg_daily_return_AGG = daily_returns.mean()['AGG']['close']\n",
    "avg_daily_return_SPY = daily_returns.mean()['SPY']['close']"
   ]
  },
  {
   "cell_type": "code",
   "execution_count": 54,
   "metadata": {},
   "outputs": [],
   "source": [
    "# Calculate the standard deviation of daily returns for AGG and SPY\n",
    "#These will be used in Monte Carlo Simulation\n",
    "std_dev_daily_return_AGG = daily_returns.std()['AGG']['close']\n",
    "std_dev_daily_return_SPY = daily_returns.std()['SPY']['close']"
   ]
  },
  {
   "cell_type": "code",
   "execution_count": 55,
   "metadata": {},
   "outputs": [
    {
     "data": {
      "text/plain": [
       "time\n",
       "2019-11-15 00:00:00-05:00         NaN\n",
       "2019-11-18 00:00:00-05:00    0.001005\n",
       "2019-11-19 00:00:00-05:00    0.000235\n",
       "2019-11-20 00:00:00-05:00   -0.001232\n",
       "2019-11-21 00:00:00-05:00   -0.001521\n",
       "dtype: float64"
      ]
     },
     "execution_count": 55,
     "metadata": {},
     "output_type": "execute_result"
    }
   ],
   "source": [
    "# Portfolio Daily Returns\n",
    "#weights show 40% AGG in portfolio and 60% SPY in portfolio\n",
    "weights = [0.4, 0.6]\n",
    "portfolio_daily_returns = daily_returns.dot(weights)\n",
    "portfolio_daily_returns.head()"
   ]
  },
  {
   "cell_type": "code",
   "execution_count": 56,
   "metadata": {},
   "outputs": [
    {
     "data": {
      "text/plain": [
       "AGG  close    0.134605\n",
       "SPY  close    0.475250\n",
       "dtype: float64"
      ]
     },
     "execution_count": 56,
     "metadata": {},
     "output_type": "execute_result"
    }
   ],
   "source": [
    "# Calculate volatility of AGG and SPY\n",
    "volatility = daily_returns.std() * np.sqrt(252)\n",
    "volatility"
   ]
  },
  {
   "cell_type": "code",
   "execution_count": 57,
   "metadata": {},
   "outputs": [],
   "source": [
    "# Save the last day's closing price\n",
    "AGG_lastclose=ticker_df[\"AGG\"][\"close\"][-1]\n",
    "SPY_lastclose=ticker_df[\"SPY\"][\"close\"][-1]"
   ]
  },
  {
   "cell_type": "code",
   "execution_count": 58,
   "metadata": {},
   "outputs": [],
   "source": [
    "# Setup the Monte Carlo Parameters\n",
    "number_simulations = 500\n",
    "number_records = 252 * 30\n",
    "monte_carlo = pd.DataFrame()\n",
    "portfolio_cumulative_returns = pd.DataFrame()"
   ]
  },
  {
   "cell_type": "code",
   "execution_count": 59,
   "metadata": {},
   "outputs": [
    {
     "data": {
      "text/html": [
       "<div>\n",
       "<style scoped>\n",
       "    .dataframe tbody tr th:only-of-type {\n",
       "        vertical-align: middle;\n",
       "    }\n",
       "\n",
       "    .dataframe tbody tr th {\n",
       "        vertical-align: top;\n",
       "    }\n",
       "\n",
       "    .dataframe thead th {\n",
       "        text-align: right;\n",
       "    }\n",
       "</style>\n",
       "<table border=\"1\" class=\"dataframe\">\n",
       "  <thead>\n",
       "    <tr style=\"text-align: right;\">\n",
       "      <th></th>\n",
       "      <th>0</th>\n",
       "      <th>1</th>\n",
       "      <th>2</th>\n",
       "      <th>3</th>\n",
       "      <th>4</th>\n",
       "      <th>5</th>\n",
       "      <th>6</th>\n",
       "      <th>7</th>\n",
       "      <th>8</th>\n",
       "      <th>9</th>\n",
       "      <th>...</th>\n",
       "      <th>490</th>\n",
       "      <th>491</th>\n",
       "      <th>492</th>\n",
       "      <th>493</th>\n",
       "      <th>494</th>\n",
       "      <th>495</th>\n",
       "      <th>496</th>\n",
       "      <th>497</th>\n",
       "      <th>498</th>\n",
       "      <th>499</th>\n",
       "    </tr>\n",
       "  </thead>\n",
       "  <tbody>\n",
       "    <tr>\n",
       "      <td>0</td>\n",
       "      <td>1.000000</td>\n",
       "      <td>1.000000</td>\n",
       "      <td>1.000000</td>\n",
       "      <td>1.000000</td>\n",
       "      <td>1.000000</td>\n",
       "      <td>1.000000</td>\n",
       "      <td>1.000000</td>\n",
       "      <td>1.000000</td>\n",
       "      <td>1.000000</td>\n",
       "      <td>1.000000</td>\n",
       "      <td>...</td>\n",
       "      <td>1.000000</td>\n",
       "      <td>1.000000</td>\n",
       "      <td>1.000000</td>\n",
       "      <td>1.000000</td>\n",
       "      <td>1.000000</td>\n",
       "      <td>1.000000</td>\n",
       "      <td>1.000000</td>\n",
       "      <td>1.000000</td>\n",
       "      <td>1.000000</td>\n",
       "      <td>1.000000</td>\n",
       "    </tr>\n",
       "    <tr>\n",
       "      <td>1</td>\n",
       "      <td>0.998959</td>\n",
       "      <td>0.998898</td>\n",
       "      <td>0.992192</td>\n",
       "      <td>1.017623</td>\n",
       "      <td>1.042333</td>\n",
       "      <td>0.976115</td>\n",
       "      <td>0.986911</td>\n",
       "      <td>1.047602</td>\n",
       "      <td>1.000420</td>\n",
       "      <td>0.979324</td>\n",
       "      <td>...</td>\n",
       "      <td>1.005010</td>\n",
       "      <td>0.968991</td>\n",
       "      <td>1.004208</td>\n",
       "      <td>1.007229</td>\n",
       "      <td>0.983451</td>\n",
       "      <td>1.009227</td>\n",
       "      <td>1.003126</td>\n",
       "      <td>1.022753</td>\n",
       "      <td>0.990172</td>\n",
       "      <td>0.976915</td>\n",
       "    </tr>\n",
       "    <tr>\n",
       "      <td>2</td>\n",
       "      <td>1.028242</td>\n",
       "      <td>1.011971</td>\n",
       "      <td>1.007365</td>\n",
       "      <td>0.980972</td>\n",
       "      <td>1.030610</td>\n",
       "      <td>0.972075</td>\n",
       "      <td>0.972267</td>\n",
       "      <td>1.020017</td>\n",
       "      <td>0.994955</td>\n",
       "      <td>0.967957</td>\n",
       "      <td>...</td>\n",
       "      <td>1.016258</td>\n",
       "      <td>0.973150</td>\n",
       "      <td>1.007159</td>\n",
       "      <td>1.017777</td>\n",
       "      <td>0.984354</td>\n",
       "      <td>0.962326</td>\n",
       "      <td>1.004432</td>\n",
       "      <td>1.014331</td>\n",
       "      <td>0.979511</td>\n",
       "      <td>0.989568</td>\n",
       "    </tr>\n",
       "    <tr>\n",
       "      <td>3</td>\n",
       "      <td>1.022852</td>\n",
       "      <td>1.007149</td>\n",
       "      <td>1.005209</td>\n",
       "      <td>0.983540</td>\n",
       "      <td>1.020421</td>\n",
       "      <td>0.944739</td>\n",
       "      <td>0.984534</td>\n",
       "      <td>0.994134</td>\n",
       "      <td>0.992005</td>\n",
       "      <td>0.996106</td>\n",
       "      <td>...</td>\n",
       "      <td>1.017146</td>\n",
       "      <td>0.947658</td>\n",
       "      <td>1.007430</td>\n",
       "      <td>1.031758</td>\n",
       "      <td>0.965402</td>\n",
       "      <td>0.969352</td>\n",
       "      <td>1.022683</td>\n",
       "      <td>0.987403</td>\n",
       "      <td>0.986196</td>\n",
       "      <td>1.003451</td>\n",
       "    </tr>\n",
       "    <tr>\n",
       "      <td>4</td>\n",
       "      <td>1.042184</td>\n",
       "      <td>1.013270</td>\n",
       "      <td>1.020140</td>\n",
       "      <td>0.997433</td>\n",
       "      <td>1.040326</td>\n",
       "      <td>0.953805</td>\n",
       "      <td>1.000447</td>\n",
       "      <td>0.968796</td>\n",
       "      <td>0.996272</td>\n",
       "      <td>1.010813</td>\n",
       "      <td>...</td>\n",
       "      <td>1.004263</td>\n",
       "      <td>0.958249</td>\n",
       "      <td>1.006698</td>\n",
       "      <td>1.004950</td>\n",
       "      <td>0.968538</td>\n",
       "      <td>0.963845</td>\n",
       "      <td>1.009521</td>\n",
       "      <td>0.996218</td>\n",
       "      <td>0.977067</td>\n",
       "      <td>1.003544</td>\n",
       "    </tr>\n",
       "    <tr>\n",
       "      <td>...</td>\n",
       "      <td>...</td>\n",
       "      <td>...</td>\n",
       "      <td>...</td>\n",
       "      <td>...</td>\n",
       "      <td>...</td>\n",
       "      <td>...</td>\n",
       "      <td>...</td>\n",
       "      <td>...</td>\n",
       "      <td>...</td>\n",
       "      <td>...</td>\n",
       "      <td>...</td>\n",
       "      <td>...</td>\n",
       "      <td>...</td>\n",
       "      <td>...</td>\n",
       "      <td>...</td>\n",
       "      <td>...</td>\n",
       "      <td>...</td>\n",
       "      <td>...</td>\n",
       "      <td>...</td>\n",
       "      <td>...</td>\n",
       "      <td>...</td>\n",
       "    </tr>\n",
       "    <tr>\n",
       "      <td>7556</td>\n",
       "      <td>0.044081</td>\n",
       "      <td>0.029835</td>\n",
       "      <td>0.030957</td>\n",
       "      <td>0.011831</td>\n",
       "      <td>0.030845</td>\n",
       "      <td>0.768857</td>\n",
       "      <td>0.004168</td>\n",
       "      <td>0.058336</td>\n",
       "      <td>0.033967</td>\n",
       "      <td>0.019248</td>\n",
       "      <td>...</td>\n",
       "      <td>0.054488</td>\n",
       "      <td>0.060567</td>\n",
       "      <td>0.050980</td>\n",
       "      <td>0.017233</td>\n",
       "      <td>0.064498</td>\n",
       "      <td>0.891533</td>\n",
       "      <td>0.030100</td>\n",
       "      <td>1.256208</td>\n",
       "      <td>0.011573</td>\n",
       "      <td>0.055230</td>\n",
       "    </tr>\n",
       "    <tr>\n",
       "      <td>7557</td>\n",
       "      <td>0.043594</td>\n",
       "      <td>0.028614</td>\n",
       "      <td>0.030556</td>\n",
       "      <td>0.011790</td>\n",
       "      <td>0.030998</td>\n",
       "      <td>0.766055</td>\n",
       "      <td>0.004059</td>\n",
       "      <td>0.060108</td>\n",
       "      <td>0.033920</td>\n",
       "      <td>0.018625</td>\n",
       "      <td>...</td>\n",
       "      <td>0.054031</td>\n",
       "      <td>0.059690</td>\n",
       "      <td>0.051454</td>\n",
       "      <td>0.016656</td>\n",
       "      <td>0.064438</td>\n",
       "      <td>0.912746</td>\n",
       "      <td>0.030287</td>\n",
       "      <td>1.269492</td>\n",
       "      <td>0.011680</td>\n",
       "      <td>0.054643</td>\n",
       "    </tr>\n",
       "    <tr>\n",
       "      <td>7558</td>\n",
       "      <td>0.042954</td>\n",
       "      <td>0.028402</td>\n",
       "      <td>0.031004</td>\n",
       "      <td>0.011824</td>\n",
       "      <td>0.030510</td>\n",
       "      <td>0.776358</td>\n",
       "      <td>0.004056</td>\n",
       "      <td>0.060840</td>\n",
       "      <td>0.034429</td>\n",
       "      <td>0.018604</td>\n",
       "      <td>...</td>\n",
       "      <td>0.054027</td>\n",
       "      <td>0.060230</td>\n",
       "      <td>0.051961</td>\n",
       "      <td>0.016425</td>\n",
       "      <td>0.065455</td>\n",
       "      <td>0.910568</td>\n",
       "      <td>0.030219</td>\n",
       "      <td>1.229815</td>\n",
       "      <td>0.011326</td>\n",
       "      <td>0.054887</td>\n",
       "    </tr>\n",
       "    <tr>\n",
       "      <td>7559</td>\n",
       "      <td>0.042517</td>\n",
       "      <td>0.028257</td>\n",
       "      <td>0.031089</td>\n",
       "      <td>0.011908</td>\n",
       "      <td>0.031463</td>\n",
       "      <td>0.759598</td>\n",
       "      <td>0.004007</td>\n",
       "      <td>0.060317</td>\n",
       "      <td>0.033582</td>\n",
       "      <td>0.018486</td>\n",
       "      <td>...</td>\n",
       "      <td>0.054258</td>\n",
       "      <td>0.061220</td>\n",
       "      <td>0.050618</td>\n",
       "      <td>0.016394</td>\n",
       "      <td>0.066638</td>\n",
       "      <td>0.900344</td>\n",
       "      <td>0.030313</td>\n",
       "      <td>1.213841</td>\n",
       "      <td>0.011036</td>\n",
       "      <td>0.053825</td>\n",
       "    </tr>\n",
       "    <tr>\n",
       "      <td>7560</td>\n",
       "      <td>0.044014</td>\n",
       "      <td>0.028767</td>\n",
       "      <td>0.032268</td>\n",
       "      <td>0.012111</td>\n",
       "      <td>0.031504</td>\n",
       "      <td>0.757655</td>\n",
       "      <td>0.003895</td>\n",
       "      <td>0.059757</td>\n",
       "      <td>0.032499</td>\n",
       "      <td>0.018368</td>\n",
       "      <td>...</td>\n",
       "      <td>0.054899</td>\n",
       "      <td>0.060069</td>\n",
       "      <td>0.049970</td>\n",
       "      <td>0.016517</td>\n",
       "      <td>0.067096</td>\n",
       "      <td>0.898041</td>\n",
       "      <td>0.030135</td>\n",
       "      <td>1.177646</td>\n",
       "      <td>0.011144</td>\n",
       "      <td>0.054748</td>\n",
       "    </tr>\n",
       "  </tbody>\n",
       "</table>\n",
       "<p>7561 rows × 500 columns</p>\n",
       "</div>"
      ],
      "text/plain": [
       "           0         1         2         3         4         5         6    \\\n",
       "0     1.000000  1.000000  1.000000  1.000000  1.000000  1.000000  1.000000   \n",
       "1     0.998959  0.998898  0.992192  1.017623  1.042333  0.976115  0.986911   \n",
       "2     1.028242  1.011971  1.007365  0.980972  1.030610  0.972075  0.972267   \n",
       "3     1.022852  1.007149  1.005209  0.983540  1.020421  0.944739  0.984534   \n",
       "4     1.042184  1.013270  1.020140  0.997433  1.040326  0.953805  1.000447   \n",
       "...        ...       ...       ...       ...       ...       ...       ...   \n",
       "7556  0.044081  0.029835  0.030957  0.011831  0.030845  0.768857  0.004168   \n",
       "7557  0.043594  0.028614  0.030556  0.011790  0.030998  0.766055  0.004059   \n",
       "7558  0.042954  0.028402  0.031004  0.011824  0.030510  0.776358  0.004056   \n",
       "7559  0.042517  0.028257  0.031089  0.011908  0.031463  0.759598  0.004007   \n",
       "7560  0.044014  0.028767  0.032268  0.012111  0.031504  0.757655  0.003895   \n",
       "\n",
       "           7         8         9    ...       490       491       492  \\\n",
       "0     1.000000  1.000000  1.000000  ...  1.000000  1.000000  1.000000   \n",
       "1     1.047602  1.000420  0.979324  ...  1.005010  0.968991  1.004208   \n",
       "2     1.020017  0.994955  0.967957  ...  1.016258  0.973150  1.007159   \n",
       "3     0.994134  0.992005  0.996106  ...  1.017146  0.947658  1.007430   \n",
       "4     0.968796  0.996272  1.010813  ...  1.004263  0.958249  1.006698   \n",
       "...        ...       ...       ...  ...       ...       ...       ...   \n",
       "7556  0.058336  0.033967  0.019248  ...  0.054488  0.060567  0.050980   \n",
       "7557  0.060108  0.033920  0.018625  ...  0.054031  0.059690  0.051454   \n",
       "7558  0.060840  0.034429  0.018604  ...  0.054027  0.060230  0.051961   \n",
       "7559  0.060317  0.033582  0.018486  ...  0.054258  0.061220  0.050618   \n",
       "7560  0.059757  0.032499  0.018368  ...  0.054899  0.060069  0.049970   \n",
       "\n",
       "           493       494       495       496       497       498       499  \n",
       "0     1.000000  1.000000  1.000000  1.000000  1.000000  1.000000  1.000000  \n",
       "1     1.007229  0.983451  1.009227  1.003126  1.022753  0.990172  0.976915  \n",
       "2     1.017777  0.984354  0.962326  1.004432  1.014331  0.979511  0.989568  \n",
       "3     1.031758  0.965402  0.969352  1.022683  0.987403  0.986196  1.003451  \n",
       "4     1.004950  0.968538  0.963845  1.009521  0.996218  0.977067  1.003544  \n",
       "...        ...       ...       ...       ...       ...       ...       ...  \n",
       "7556  0.017233  0.064498  0.891533  0.030100  1.256208  0.011573  0.055230  \n",
       "7557  0.016656  0.064438  0.912746  0.030287  1.269492  0.011680  0.054643  \n",
       "7558  0.016425  0.065455  0.910568  0.030219  1.229815  0.011326  0.054887  \n",
       "7559  0.016394  0.066638  0.900344  0.030313  1.213841  0.011036  0.053825  \n",
       "7560  0.016517  0.067096  0.898041  0.030135  1.177646  0.011144  0.054748  \n",
       "\n",
       "[7561 rows x 500 columns]"
      ]
     },
     "execution_count": 59,
     "metadata": {},
     "output_type": "execute_result"
    }
   ],
   "source": [
    "# Run the Monte Carlo Simulation\n",
    "for n in range(number_simulations):\n",
    "    # Initialize the simulated prices list with the last closing price of `AGG` and `SPY`\n",
    "    simulated_AGG_prices = [AGG_lastclose]\n",
    "    simulated_SPY_prices = [SPY_lastclose]\n",
    "    \n",
    "    # Simulate the returns for 252 trading days * 30 years = 7650 days of closing prices\n",
    "    for day in range(number_records):\n",
    "        \n",
    "        # Calculate the simulated price using the last price within the list\n",
    "        simulated_AGG_price = simulated_AGG_prices[-1] * (1 + np.random.normal(avg_daily_return_AGG, std_dev_daily_return_AGG))\n",
    "        simulated_SPY_price = simulated_SPY_prices[-1] * (1 + np.random.normal(avg_daily_return_SPY, std_dev_daily_return_SPY))\n",
    "       \n",
    "        # Add the simulated price to the list of prices\n",
    "        simulated_AGG_prices.append(simulated_AGG_price)\n",
    "        simulated_SPY_prices.append(simulated_SPY_price)\n",
    "    \n",
    "    # Add simulated prices of each simulation to DataFrame\n",
    "    monte_carlo[\"AGG prices\"] = pd.Series(simulated_AGG_prices)\n",
    "    monte_carlo[\"SPY prices\"] = pd.Series(simulated_SPY_prices)  \n",
    "    \n",
    "    # Calculate the daily returns of simulated prices\n",
    "    monte_carlo_returns = monte_carlo.pct_change()\n",
    "    \n",
    "    # Set the portfolio weights (40% AGG; 60% SPY;)\n",
    "    weights = [0.4, 0.6]\n",
    "    \n",
    "    # Use the `dot` function with the weights to multiply weights with each column's simulated daily returns\n",
    "    #This will give appropriate weight to the returns from each stock\n",
    "    portfolio_returns = monte_carlo_returns.dot(weights)\n",
    "    \n",
    "    # Calculate the normalized, cumulative return series\n",
    "    portfolio_cumulative_returns[n]= (1 + portfolio_returns.fillna(0)).cumprod()\n",
    "    \n",
    "# Print records from the DataFrame\n",
    "portfolio_cumulative_returns"
   ]
  },
  {
   "cell_type": "code",
   "execution_count": 60,
   "metadata": {},
   "outputs": [
    {
     "data": {
      "text/plain": [
       "<matplotlib.axes._subplots.AxesSubplot at 0x116ecbc90>"
      ]
     },
     "execution_count": 60,
     "metadata": {},
     "output_type": "execute_result"
    },
    {
     "data": {
      "image/png": "[encoded data removed]",
      "text/plain": [
       "<Figure size 432x288 with 1 Axes>"
      ]
     },
     "metadata": {
      "needs_background": "light"
     },
     "output_type": "display_data"
    }
   ],
   "source": [
    "# Visualize the Simulation\n",
    "# Use the `plot` function to plot 500 simulations of the potential trajectories of the portfolio based on 252 trading days\n",
    "plot_title = f\"{n+1} Simulations of Cumulative Portfolio Return Trajectories Over the Next 30 years (7560 Trading Days)\"\n",
    "portfolio_cumulative_returns.plot(legend=None, title=plot_title)"
   ]
  },
  {
   "cell_type": "code",
   "execution_count": 61,
   "metadata": {},
   "outputs": [
    {
     "data": {
      "text/plain": [
       "0    0.044014\n",
       "1    0.028767\n",
       "2    0.032268\n",
       "3    0.012111\n",
       "4    0.031504\n",
       "Name: 7560, dtype: float64"
      ]
     },
     "execution_count": 61,
     "metadata": {},
     "output_type": "execute_result"
    }
   ],
   "source": [
    "# Select the last row for the cumulative returns (cumulative returns at 30 years or 7560 trading days )\n",
    "ending_cumulative_returns = portfolio_cumulative_returns.iloc[-1, :]\n",
    "ending_cumulative_returns.head()"
   ]
  },
  {
   "cell_type": "code",
   "execution_count": 62,
   "metadata": {},
   "outputs": [
    {
     "data": {
      "text/plain": [
       "0    0.123378\n",
       "1    0.094313\n",
       "2    0.060740\n",
       "3    0.040125\n",
       "4    0.468611\n",
       "Name: 5041, dtype: float64"
      ]
     },
     "execution_count": 62,
     "metadata": {},
     "output_type": "execute_result"
    }
   ],
   "source": [
    "# Select the last row for the cumulative returns (cumulative returns at 20 years or 5040 trading days)\n",
    "yr20_cumulative_returns = portfolio_cumulative_returns.iloc[5041, :]\n",
    "yr20_cumulative_returns.head()"
   ]
  },
  {
   "cell_type": "code",
   "execution_count": 79,
   "metadata": {},
   "outputs": [
    {
     "data": {
      "text/plain": [
       "0.05    0.003918\n",
       "0.95    0.577752\n",
       "Name: 7560, dtype: float64"
      ]
     },
     "execution_count": 79,
     "metadata": {},
     "output_type": "execute_result"
    }
   ],
   "source": [
    "# Display the 90% confidence interval for the ending returns\n",
    "# Use the quantile function to calculate the 90% confidence interval for simulated ending returns\n",
    "confidence_interval = ending_cumulative_returns.quantile(q=[0.05, 0.95])\n",
    "confidence_interval"
   ]
  },
  {
   "cell_type": "code",
   "execution_count": 83,
   "metadata": {},
   "outputs": [
    {
     "data": {
      "text/plain": [
       "<matplotlib.lines.Line2D at 0x11d4c3bd0>"
      ]
     },
     "execution_count": 83,
     "metadata": {},
     "output_type": "execute_result"
    },
    {
     "data": {
      "image/png": "[encoded data removed]",
      "text/plain": [
       "<Figure size 432x288 with 1 Axes>"
      ]
     },
     "metadata": {
      "needs_background": "light"
     },
     "output_type": "display_data"
    }
   ],
   "source": [
    "# Visualize the distribution of the ending returns\n",
    "# Create a probability distribution histogram of simulated ending prices\n",
    "# with markings for a 90% confidence interval\n",
    "plt.figure();\n",
    "ending_cumulative_returns.plot(kind='hist', density=True, bins=500)\n",
    "plt.axvline(confidence_interval.iloc[0], color='r')\n",
    "plt.axvline(confidence_interval.iloc[1], color='r')"
   ]
  },
  {
   "cell_type": "markdown",
   "metadata": {},
   "source": [
    "---"
   ]
  },
  {
   "cell_type": "markdown",
   "metadata": {},
   "source": [
    "# Retirement Analysis\n",
    "\n",
    "In this section, you will use the monte carlo model to answer the following retirement planning questions:\n",
    "\n",
    "1. What are the expected cumulative returns at 30 years for the 10th, 50th, and 90th percentiles?\n",
    "2. Given an initial investment of `$20,000`, what is the expected portfolio return in dollars at the 10th, 50th, and 90th percentiles?\n",
    "3. Given the current projected annual income from the Plaid analysis, will a 4% withdraw rate from the retirement portfolio meet or exceed that value at the 10th percentile?\n",
    "4. How would a 50% increase in the initial investment amount affect the 4% retirement withdrawal?"
   ]
  },
  {
   "cell_type": "markdown",
   "metadata": {},
   "source": [
    "### What are the expected cumulative returns at 30 years for the 10th, 50th, and 90th percentiles?"
   ]
  },
  {
   "cell_type": "code",
   "execution_count": 65,
   "metadata": {},
   "outputs": [
    {
     "data": {
      "text/plain": [
       "0.3033626226011421"
      ]
     },
     "execution_count": 65,
     "metadata": {},
     "output_type": "execute_result"
    }
   ],
   "source": [
    "#bring down ending_cumulative_returns for the last row of monte_carlo data @ 30 years or 7650 trading days\n",
    "\n",
    "# Display the 90% percentile for the ending returns\n",
    "# Use the quantile function to calculate the 90% percentile for simulated ending returns\n",
    "percentile_90 = ending_cumulative_returns.quantile(q=0.9)\n",
    "percentile_90"
   ]
  },
  {
   "cell_type": "code",
   "execution_count": 66,
   "metadata": {},
   "outputs": [
    {
     "data": {
      "text/plain": [
       "0.04864597347689583"
      ]
     },
     "execution_count": 66,
     "metadata": {},
     "output_type": "execute_result"
    }
   ],
   "source": [
    "# Display the 50% percentile for the ending returns\n",
    "# Use the quantile function to calculate the 50% percentile for simulated ending returns\n",
    "percentile_50 = ending_cumulative_returns.quantile(q=0.5)\n",
    "percentile_50"
   ]
  },
  {
   "cell_type": "code",
   "execution_count": 67,
   "metadata": {},
   "outputs": [
    {
     "data": {
      "text/plain": [
       "0.006717658109412721"
      ]
     },
     "execution_count": 67,
     "metadata": {},
     "output_type": "execute_result"
    }
   ],
   "source": [
    "# Display the 10% percentile for the ending returns\n",
    "# Use the quantile function to calculate the 10% percentile for simulated ending returns\n",
    "percentile_10 = ending_cumulative_returns.quantile(q=0.1)\n",
    "percentile_10"
   ]
  },
  {
   "cell_type": "markdown",
   "metadata": {},
   "source": [
    "### Given an initial investment of `$20,000`, what is the expected portfolio return in dollars at the 10th, 50th, and 90th percentiles?"
   ]
  },
  {
   "cell_type": "code",
   "execution_count": 68,
   "metadata": {},
   "outputs": [],
   "source": [
    "# Set initial investment\n",
    "initial_investment = 20000"
   ]
  },
  {
   "cell_type": "code",
   "execution_count": 69,
   "metadata": {},
   "outputs": [
    {
     "name": "stdout",
     "output_type": "stream",
     "text": [
      "The expected return at the 90th percentile for the initial investment of $20000 in the portfolio over the next 252 * 30 trading days is $26067.25245202284\n"
     ]
    }
   ],
   "source": [
    "#90th percentile\n",
    "investment_pnl_90 = initial_investment+(initial_investment * percentile_90)\n",
    "\n",
    "# Print the results\n",
    "print(f\"The expected return at the 90th percentile for the initial investment of ${initial_investment} in the portfolio\"\n",
    "      f\" over the next 252 * 30 trading days is\"\n",
    "      f\" ${investment_pnl_90}\")"
   ]
  },
  {
   "cell_type": "code",
   "execution_count": 70,
   "metadata": {},
   "outputs": [
    {
     "name": "stdout",
     "output_type": "stream",
     "text": [
      "The expected return at the 50th percentile for the initial investment of $20000 in the portfolio over the next 252 * 30 trading days is $20972.919469537916\n"
     ]
    }
   ],
   "source": [
    "# For the 50th Percentile\n",
    "investment_pnl_50 = initial_investment+(initial_investment * percentile_50)\n",
    "\n",
    "# Print the results\n",
    "print(f\"The expected return at the 50th percentile for the initial investment of ${initial_investment} in the portfolio\"\n",
    "      f\" over the next 252 * 30 trading days is\"\n",
    "      f\" ${investment_pnl_50}\")"
   ]
  },
  {
   "cell_type": "code",
   "execution_count": 71,
   "metadata": {},
   "outputs": [
    {
     "name": "stdout",
     "output_type": "stream",
     "text": [
      "The expected return at the 10th percentile for the initial investment of $20000 in the portfolio over the next 252 * 30 trading days is $20134.353162188254\n"
     ]
    }
   ],
   "source": [
    "# For the 10th Percentile\n",
    "investment_pnl_10 = initial_investment+(initial_investment * percentile_10)\n",
    "\n",
    "# Print the results\n",
    "print(f\"The expected return at the 10th percentile for the initial investment of ${initial_investment} in the portfolio\"\n",
    "      f\" over the next 252 * 30 trading days is\"\n",
    "      f\" ${investment_pnl_10}\")"
   ]
  },
  {
   "cell_type": "markdown",
   "metadata": {},
   "source": [
    "### Given the current projected annual income from the Plaid analysis, will a 4% withdraw rate from the retirement portfolio meet or exceed that value at the 10th percentile?\n",
    "\n",
    "Note: This is effectively saying that 90% of the expected returns will be greater than the return at the 10th percentile, so this can help measure the uncertainty about having enough funds at retirement"
   ]
  },
  {
   "cell_type": "code",
   "execution_count": 72,
   "metadata": {},
   "outputs": [
    {
     "name": "stdout",
     "output_type": "stream",
     "text": [
      "A 4% withdraw rate from the 10th percentile retirement portfolio is $805.3741264875301 at 30 years. This value is lower than the projected yearly income of $6085. This means that for the 10th percentile value the withdraw from the portfolio will not meet and will not exceed the value of the projected annual income. This portfolio will not provide adequate retirement income at that withdrawl rate to meet current annual income/living expectations.\n"
     ]
    }
   ],
   "source": [
    "#Will 4% withdraw rate from retirement meet or exceed value at the 10th percentile.\n",
    "#4% withdraw from retirement portfolio value vs. income estimated in plaid. \n",
    "proj_annual_income=6085\n",
    "#Calculate 4% of the retirement portfolio value at the 10th percentile\n",
    "retirement_10_4percent=investment_pnl_10*(4/100)\n",
    "\n",
    "print(f\"A 4% withdraw rate from the 10th percentile retirement portfolio is ${retirement_10_4percent} at 30 years. This value is lower than the projected yearly income of ${proj_annual_income}. This means that for the 10th percentile value the withdraw from the portfolio will not meet and will not exceed the value of the projected annual income. This portfolio will not provide adequate retirement income at that withdrawl rate to meet current annual income/living expectations.\")"
   ]
  },
  {
   "cell_type": "markdown",
   "metadata": {},
   "source": [
    "### How would a 50% increase in the initial investment amount affect the 4% retirement withdrawal?"
   ]
  },
  {
   "cell_type": "code",
   "execution_count": 73,
   "metadata": {},
   "outputs": [
    {
     "name": "stdout",
     "output_type": "stream",
     "text": [
      "For a 50% higher initial investment of $30000.0 in the portfolio over the next 252 * 30 trading days the 10th percentile net value is $30201.529743282383\n"
     ]
    }
   ],
   "source": [
    "# Set initial investment to 1.5 x more (50% increase)\n",
    "initial_investment_raised = 20000*1.5\n",
    "# For the 10th Percentile\n",
    "investment_pnl_10_raised = initial_investment_raised+(initial_investment_raised * percentile_10)\n",
    "\n",
    "# Print the results\n",
    "print(f\"For a 50% higher initial investment of ${initial_investment_raised} in the portfolio\"\n",
    "      f\" over the next 252 * 30 trading days the 10th percentile net value is\"\n",
    "      f\" ${investment_pnl_10_raised}\")"
   ]
  },
  {
   "cell_type": "code",
   "execution_count": 74,
   "metadata": {},
   "outputs": [
    {
     "name": "stdout",
     "output_type": "stream",
     "text": [
      "A 4% withdraw rate from the retirement portfolio for the 10th percentile will be $1208.0611897312954. This value is still lower than the projected yearly income of $6085. This means that the withdraw from the portfolio will not meet and will not exceed the value of the projected annual income. Even with more initial investment, this portfolio will not provide adequate retirement income at that withdrawl rate to meet current annual income/living expectations.\n"
     ]
    }
   ],
   "source": [
    "#Will 4% withdraw rate from retirement meet or exceed value at the 10th percentile.\n",
    "#4% withdraw from retirement portfolio value vs. income estimated in plaid. \n",
    "#Project yearly income was $6085 \n",
    "#Calculated in account_summary.ipynb\n",
    "proj_annual_income=6085\n",
    "#Calculate 4% of the retirement portfolio value at the 10th percentile\n",
    "retirement_raised_10_4percent=investment_pnl_10_raised*(4/100)\n",
    "\n",
    "print(f\"A 4% withdraw rate from the retirement portfolio for the 10th percentile will be ${retirement_raised_10_4percent}. This value is still lower than the projected yearly income of ${proj_annual_income}. This means that the withdraw from the portfolio will not meet and will not exceed the value of the projected annual income. Even with more initial investment, this portfolio will not provide adequate retirement income at that withdrawl rate to meet current annual income/living expectations.\")"
   ]
  },
  {
   "cell_type": "markdown",
   "metadata": {},
   "source": [
    "### Optional Challenge\n",
    "\n",
    "In this section, you will calculate and plot the cumulative returns for the median and 90% confidence intervals. This plot shows the expected cumulative returns for any given day between the first day and the last day of investment. "
   ]
  },
  {
   "cell_type": "code",
   "execution_count": 75,
   "metadata": {},
   "outputs": [],
   "source": [
    "# YOUR CODE HERE"
   ]
  },
  {
   "cell_type": "code",
   "execution_count": null,
   "metadata": {},
   "outputs": [],
   "source": []
  }
 ],
 "metadata": {
  "kernel_info": {
   "name": "dev"
  },
  "kernelspec": {
   "display_name": "Python 3",
   "language": "python",
   "name": "python3"
  },
  "language_info": {
   "codemirror_mode": {
    "name": "ipython",
    "version": 3
   },
   "file_extension": ".py",
   "mimetype": "text/x-python",
   "name": "python",
   "nbconvert_exporter": "python",
   "pygments_lexer": "ipython3",
   "version": "3.7.4"
  },
  "nteract": {
   "version": "0.12.3"
  }
 },
 "nbformat": 4,
 "nbformat_minor": 4
}
